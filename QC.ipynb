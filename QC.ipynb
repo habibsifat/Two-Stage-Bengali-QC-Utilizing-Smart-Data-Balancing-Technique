{
  "nbformat": 4,
  "nbformat_minor": 0,
  "metadata": {
    "colab": {
      "name": "QC.ipynb",
      "provenance": [],
      "collapsed_sections": [
        "JiqkBm8hafxK",
        "kpF2WC_OanC7"
      ],
      "toc_visible": true,
      "include_colab_link": true
    },
    "kernelspec": {
      "name": "python3",
      "display_name": "Python 3"
    }
  },
  "cells": [
    {
      "cell_type": "markdown",
      "metadata": {
        "id": "view-in-github",
        "colab_type": "text"
      },
      "source": [
        "<a href=\"https://colab.research.google.com/github/habibsifat/Two-Stage-Bengali-QC-Utilizing-Smart-Data-Balancing-Technique/blob/master/QC.ipynb\" target=\"_parent\"><img src=\"https://colab.research.google.com/assets/colab-badge.svg\" alt=\"Open In Colab\"/></a>"
      ]
    },
    {
      "cell_type": "code",
      "metadata": {
        "id": "lfs_6Mro7Yz9",
        "colab_type": "code",
        "outputId": "8f216cbf-1915-4a0c-e04d-1372680dac28",
        "colab": {
          "base_uri": "https://localhost:8080/",
          "height": 55
        }
      },
      "source": [
        "from google.colab import drive\n",
        "drive.mount('/content/drive')"
      ],
      "execution_count": 0,
      "outputs": [
        {
          "output_type": "stream",
          "text": [
            "Drive already mounted at /content/drive; to attempt to forcibly remount, call drive.mount(\"/content/drive\", force_remount=True).\n"
          ],
          "name": "stdout"
        }
      ]
    },
    {
      "cell_type": "code",
      "metadata": {
        "id": "JNF0O1tg7a7O",
        "colab_type": "code",
        "outputId": "3655dbbb-e456-40c5-f764-2559ee616948",
        "colab": {
          "base_uri": "https://localhost:8080/",
          "height": 72
        }
      },
      "source": [
        "!ls  \"/content/drive/My Drive/Colab Notebooks/ICCSP-2020/\""
      ],
      "execution_count": 0,
      "outputs": [
        {
          "output_type": "stream",
          "text": [
            "ALL_Model.ipynb\t\tICCSP-w2v.ipynb    puntuation.ipynb  sifat_X.csv\n",
            "corpus.txt\t\tnew-corpus.txt\t   qa-corpus.txt     sifat_y.csv\n",
            "Finer_Class_Corpus.txt\tNew_QA_Corpus.txt  QA_w2v.h5\n"
          ],
          "name": "stdout"
        }
      ]
    },
    {
      "cell_type": "code",
      "metadata": {
        "id": "2FD_hhsB6rD1",
        "colab_type": "code",
        "outputId": "04418275-0c12-4c2f-b7ba-b2c1aae39a8b",
        "colab": {
          "base_uri": "https://localhost:8080/",
          "height": 35
        }
      },
      "source": [
        "corpus_file = '/content/drive/My Drive/Colab Notebooks/ICCSP-2020/Finer_Class_Corpus.txt'\n",
        "sentences = []\n",
        "with open(corpus_file, 'r', encoding=\"utf-8\") as f:\n",
        "    for line in f:\n",
        "        sentences.append(line.split())\n",
        "       \n",
        "len(sentences)"
      ],
      "execution_count": 0,
      "outputs": [
        {
          "output_type": "execute_result",
          "data": {
            "text/plain": [
              "3333"
            ]
          },
          "metadata": {
            "tags": []
          },
          "execution_count": 75
        }
      ]
    },
    {
      "cell_type": "code",
      "metadata": {
        "id": "p_77xqXAWqe2",
        "colab_type": "code",
        "colab": {}
      },
      "source": [
        "sentences = list(filter(None, sentences)) # fastest remove null from list"
      ],
      "execution_count": 0,
      "outputs": []
    },
    {
      "cell_type": "code",
      "metadata": {
        "id": "OLYcj4qHlP93",
        "colab_type": "code",
        "colab": {}
      },
      "source": [
        "def listToString(s):  \n",
        "    \n",
        "    # initialize an empty string \n",
        "    str1 = \" \" \n",
        "    # return string   \n",
        "    return (str1.join(s))\n",
        "f = open(\"train_set.txt\", \"x\")\n",
        "f = open(\"train_set.txt\", \"a\")\n",
        "i=0\n",
        "for line in sentences:\n",
        "  f.write(listToString(sentences[i]))\n",
        "  f.write(\" \")\n",
        "  f.write(str(y[i]))\n",
        "  f.write(\"\\n\")\n",
        "  i+=1\n",
        "  #print(line)\n",
        "\n",
        "f.close()"
      ],
      "execution_count": 0,
      "outputs": []
    },
    {
      "cell_type": "code",
      "metadata": {
        "id": "X1hXC-GH70un",
        "colab_type": "code",
        "colab": {}
      },
      "source": [
        "#Remove Level\n",
        "for line in sentences:\n",
        "  del line[-2]"
      ],
      "execution_count": 0,
      "outputs": []
    },
    {
      "cell_type": "code",
      "metadata": {
        "id": "Ohujo9ARnyII",
        "colab_type": "code",
        "colab": {}
      },
      "source": [
        "i=0\n",
        "for line in sentences:\n",
        "  print(line)"
      ],
      "execution_count": 0,
      "outputs": []
    },
    {
      "cell_type": "code",
      "metadata": {
        "id": "adm3jZx2oWG1",
        "colab_type": "code",
        "colab": {}
      },
      "source": [
        "#sentences = sentences.replace('LOCATION', ' 0 ')\n",
        "for line in sentences:\n",
        "  for n, i in enumerate(line):\n",
        "      if i == 'ENTITY':\n",
        "         line[n] = 0"
      ],
      "execution_count": 0,
      "outputs": []
    },
    {
      "cell_type": "code",
      "metadata": {
        "id": "9BuTQV-VjhIH",
        "colab_type": "code",
        "colab": {}
      },
      "source": [
        "#Add Level\n",
        "target = [ ]\n",
        "for line in sentences:\n",
        "  target.append(line[-1])"
      ],
      "execution_count": 0,
      "outputs": []
    },
    {
      "cell_type": "code",
      "metadata": {
        "id": "96d6VHCujwdK",
        "colab_type": "code",
        "colab": {}
      },
      "source": [
        "for t in y:\n",
        "  print(t)"
      ],
      "execution_count": 0,
      "outputs": []
    },
    {
      "cell_type": "code",
      "metadata": {
        "id": "LEsWYrVulGdk",
        "colab_type": "code",
        "outputId": "30c38f58-80b4-4f1f-e0c5-5c5f19a83bd6",
        "colab": {
          "base_uri": "https://localhost:8080/",
          "height": 35
        }
      },
      "source": [
        "len(target)"
      ],
      "execution_count": 0,
      "outputs": [
        {
          "output_type": "execute_result",
          "data": {
            "text/plain": [
              "3333"
            ]
          },
          "metadata": {
            "tags": []
          },
          "execution_count": 65
        }
      ]
    },
    {
      "cell_type": "code",
      "metadata": {
        "id": "GPu38LPWrFlv",
        "colab_type": "code",
        "colab": {}
      },
      "source": [
        "from sklearn.preprocessing import LabelEncoder\n",
        "encoder = LabelEncoder()\n",
        "y = encoder.fit_transform(target)"
      ],
      "execution_count": 0,
      "outputs": []
    },
    {
      "cell_type": "code",
      "metadata": {
        "id": "Crg6IuMzrNSB",
        "colab_type": "code",
        "outputId": "19a4fd17-d6fc-4af3-fd99-3ed2ea609cb4",
        "colab": {
          "base_uri": "https://localhost:8080/",
          "height": 54
        }
      },
      "source": [
        "print(len(y))\n",
        "print(max(y))"
      ],
      "execution_count": 0,
      "outputs": [
        {
          "output_type": "stream",
          "text": [
            "3333\n",
            "48\n"
          ],
          "name": "stdout"
        }
      ]
    },
    {
      "cell_type": "code",
      "metadata": {
        "id": "UzFOLn4mxkIN",
        "colab_type": "code",
        "colab": {}
      },
      "source": [
        "f = open(\"finer_class.txt\", \"x\")\n",
        "f = open(\"finer_class.txt\", \"a\")\n",
        "i=0\n",
        "for y1 in y:\n",
        "  f.write(str(y1))\n",
        "  f.write(\"\\n\")\n",
        "  #i+=1\n",
        "  #print(line)\n",
        "f.close()"
      ],
      "execution_count": 0,
      "outputs": []
    },
    {
      "cell_type": "code",
      "metadata": {
        "id": "8VuP98NHuBh4",
        "colab_type": "code",
        "colab": {}
      },
      "source": [
        "import numpy\n",
        "y = numpy.append(y, y[0])"
      ],
      "execution_count": 0,
      "outputs": []
    },
    {
      "cell_type": "code",
      "metadata": {
        "id": "Guu1Bl2lrmD2",
        "colab_type": "code",
        "colab": {}
      },
      "source": [
        "l = y.tolist()"
      ],
      "execution_count": 0,
      "outputs": []
    },
    {
      "cell_type": "code",
      "metadata": {
        "id": "GYKdxYqTsWrG",
        "colab_type": "code",
        "outputId": "9e257506-c9be-4a5c-c293-67f76119eab3",
        "colab": {
          "base_uri": "https://localhost:8080/",
          "height": 35
        }
      },
      "source": [
        "len(l)"
      ],
      "execution_count": 0,
      "outputs": [
        {
          "output_type": "execute_result",
          "data": {
            "text/plain": [
              "3334"
            ]
          },
          "metadata": {
            "tags": []
          },
          "execution_count": 38
        }
      ]
    },
    {
      "cell_type": "code",
      "metadata": {
        "id": "0tnDFHNNrvLV",
        "colab_type": "code",
        "colab": {}
      },
      "source": [
        "for l1 in l:\n",
        "  print(l1)"
      ],
      "execution_count": 0,
      "outputs": []
    },
    {
      "cell_type": "code",
      "metadata": {
        "id": "y1lBF6IGlBki",
        "colab_type": "code",
        "colab": {}
      },
      "source": [
        "l.append('6')"
      ],
      "execution_count": 0,
      "outputs": []
    },
    {
      "cell_type": "code",
      "metadata": {
        "id": "TsUrpknXkQyx",
        "colab_type": "code",
        "colab": {}
      },
      "source": [
        "i=0\n",
        "for line in sentences:\n",
        "  line.append(target[i])\n",
        "  i +=1"
      ],
      "execution_count": 0,
      "outputs": []
    },
    {
      "cell_type": "markdown",
      "metadata": {
        "id": "JiqkBm8hafxK",
        "colab_type": "text"
      },
      "source": [
        "# **W2V and Update Corpus**"
      ]
    },
    {
      "cell_type": "code",
      "metadata": {
        "id": "E3vTeZBj7yVD",
        "colab_type": "code",
        "colab": {}
      },
      "source": [
        "!pip install gensim"
      ],
      "execution_count": 0,
      "outputs": []
    },
    {
      "cell_type": "code",
      "metadata": {
        "id": "0BC1FzMB8R2B",
        "colab_type": "code",
        "outputId": "9734fdb6-16c8-4f84-bc85-813e07ed1996",
        "colab": {
          "base_uri": "https://localhost:8080/",
          "height": 35
        }
      },
      "source": [
        "from gensim.models import Word2Vec\n",
        "model = Word2Vec(sentences, sg=1, size=50, window=5, min_count=1, workers=4,iter=100)\n",
        "len(model.wv.vocab)"
      ],
      "execution_count": 0,
      "outputs": [
        {
          "output_type": "execute_result",
          "data": {
            "text/plain": [
              "173"
            ]
          },
          "metadata": {
            "tags": []
          },
          "execution_count": 77
        }
      ]
    },
    {
      "cell_type": "code",
      "metadata": {
        "id": "-fWnEM21tQ8J",
        "colab_type": "code",
        "outputId": "dddb52a8-b62e-47ec-b78f-8e8a3946662e",
        "colab": {
          "base_uri": "https://localhost:8080/",
          "height": 74
        }
      },
      "source": [
        "#model.save(QA_w2v.h5)\n",
        "#Save partly trained model\n",
        "model_path = 'drive/My Drive/Colab Notebooks/ICCSP-2020/FinerClass_w2v.h5'\n",
        "model.save(model_path)"
      ],
      "execution_count": 0,
      "outputs": [
        {
          "output_type": "stream",
          "text": [
            "/usr/local/lib/python3.6/dist-packages/smart_open/smart_open_lib.py:402: UserWarning: This function is deprecated, use smart_open.open instead. See the migration notes for details: https://github.com/RaRe-Technologies/smart_open/blob/master/README.rst#migrating-to-the-new-open-function\n",
            "  'See the migration notes for details: %s' % _MIGRATION_NOTES_URL\n"
          ],
          "name": "stderr"
        }
      ]
    },
    {
      "cell_type": "code",
      "metadata": {
        "id": "LHNuzleZ8xxT",
        "colab_type": "code",
        "colab": {}
      },
      "source": [
        "model.wv.vocab"
      ],
      "execution_count": 0,
      "outputs": []
    },
    {
      "cell_type": "code",
      "metadata": {
        "id": "H1KAzeidBQPN",
        "colab_type": "code",
        "colab": {}
      },
      "source": [
        "top_words = []\n",
        "for i in model.wv.vocab:\n",
        "  top_words.append(i)\n",
        "  #print(i)\n",
        "top_words"
      ],
      "execution_count": 0,
      "outputs": []
    },
    {
      "cell_type": "code",
      "metadata": {
        "id": "ZsHdXJS59Wql",
        "colab_type": "code",
        "colab": {}
      },
      "source": [
        "sen2=[]\n",
        "for sen in sentences:\n",
        "  w=0\n",
        "  for word in sen:\n",
        "    for k in word:\n",
        "      if k==\":\" or k==\"A\" or k==\"B\" or k==\"C\" or k==\"D\" or k==\"E\" or k==\"F\" or k==\"G\" or k==\"H\" or k==\"I\" or k==\"J\" or k==\"K\" or k==\"L\" or k==\"M\" or k==\"N\" or k==\"O\" or k==\"P\" or k==\"Q\" or k==\"R\" or k==\"S\" or k==\"T\" or k==\"U\" or k==\"V\" or k==\"W\" or k==\"X\" or k==\"Y\" or k==\"Z\" or k==\"a\" or k==\"b\" or k==\"c\" or k==\"d\" or k==\"e\" or k==\"f\" or k==\"g\" or k==\"h\" or k==\"i\" or k==\"j\" or k==\"k\" or k==\"l\" or k==\"m\" or k==\"n\" or k==\"o\" or k==\"p\" or k==\"q\" or k==\"r\" or k==\"s\" or k==\"t\" or k==\"u\" or k==\"v\" or k==\"w\" or k==\"x\" or k==\"y\" or k==\"z\":\n",
        "        #print(k,end='')\n",
        "        sen2.append(\"ENG\")\n",
        "        #print(word)\n",
        "        break\n",
        "      else:\n",
        "        sen2.append(word)\n",
        "        break\n",
        "  sen2.append('\\n')"
      ],
      "execution_count": 0,
      "outputs": []
    },
    {
      "cell_type": "code",
      "metadata": {
        "id": "Tvrl7_fxAW8w",
        "colab_type": "code",
        "outputId": "8a21dbef-275d-45c6-be44-222110b686b5",
        "colab": {
          "base_uri": "https://localhost:8080/",
          "height": 34
        }
      },
      "source": [
        "len(sen2)"
      ],
      "execution_count": 0,
      "outputs": [
        {
          "output_type": "execute_result",
          "data": {
            "text/plain": [
              "23861"
            ]
          },
          "metadata": {
            "tags": []
          },
          "execution_count": 42
        }
      ]
    },
    {
      "cell_type": "code",
      "metadata": {
        "id": "daH3KPvmAbii",
        "colab_type": "code",
        "colab": {}
      },
      "source": [
        "sen3 = []\n",
        "for sn in sen2:\n",
        "  for k in sn:\n",
        "    if k==\"0\" or k==\"1\" or k==\"2\" or k==\"3\" or k==\"4\" or k==\"5\" or k==\"6\" or k==\"7\" or k==\"8\" or k==\"9\" or k==\"০\" or k==\"১\" or k==\"২\" or k==\"৩\" or k==\"৪\" or k==\"৫\" or k==\"৬\" or k==\"7\" or k==\"৮\" or k==\"৯\":\n",
        "        sen3.append(\"NUM\")\n",
        "        break\n",
        "    else:\n",
        "        sen3.append(sn)\n",
        "        break\n",
        "  #sen3.append('\\n')"
      ],
      "execution_count": 0,
      "outputs": []
    },
    {
      "cell_type": "code",
      "metadata": {
        "id": "kRSQUEcrAlX8",
        "colab_type": "code",
        "colab": {}
      },
      "source": [
        "top_words.append('\\n')\n",
        "top_words.append(\"ENG\")\n",
        "top_words.append(\"NUM\")\n",
        "sen4 = []\n",
        "for i in sen3:\n",
        "    if i in top_words:\n",
        "      sen4.append(i)\n",
        "    else:\n",
        "      sen4.append(\"UNK\")"
      ],
      "execution_count": 0,
      "outputs": []
    },
    {
      "cell_type": "code",
      "metadata": {
        "id": "0hI7vJ1JBuFn",
        "colab_type": "code",
        "colab": {}
      },
      "source": [
        "with open('/content/drive/My Drive/Colab Notebooks/ICCSP-2020/new-corpus.txt', 'w') as f:\n",
        "  for item in sen4: \n",
        "    f.write(item)\n",
        "    f.write(' ')\n",
        "f.close()"
      ],
      "execution_count": 0,
      "outputs": []
    },
    {
      "cell_type": "markdown",
      "metadata": {
        "id": "kpF2WC_OanC7",
        "colab_type": "text"
      },
      "source": [
        "# **w2v and Train Model**"
      ]
    },
    {
      "cell_type": "code",
      "metadata": {
        "id": "1s0viU3_a48M",
        "colab_type": "code",
        "outputId": "5b9461b4-6cc6-41f5-d28b-d1bd22b5f12d",
        "colab": {
          "base_uri": "https://localhost:8080/",
          "height": 34
        }
      },
      "source": [
        "corpus_file = '/content/drive/My Drive/Colab Notebooks/ICCSP-2020/corpus.txt'\n",
        "sentences = []\n",
        "with open(corpus_file, 'r', encoding=\"utf-8\") as f:\n",
        "    for line in f:\n",
        "        sentences.append(line.split())\n",
        "       \n",
        "len(sentences)"
      ],
      "execution_count": 0,
      "outputs": [
        {
          "output_type": "execute_result",
          "data": {
            "text/plain": [
              "3333"
            ]
          },
          "metadata": {
            "tags": []
          },
          "execution_count": 67
        }
      ]
    },
    {
      "cell_type": "code",
      "metadata": {
        "id": "Ho5R5NnLCXY8",
        "colab_type": "code",
        "colab": {}
      },
      "source": [
        "from gensim.models import Word2Vec\n",
        "print('\\nTraining word2vec...')\n",
        "word_model = Word2Vec(sentences, size=100, min_count=15, window=5, iter=100)\n",
        "pretrained_weights = word_model.wv.syn0 \n",
        "vocab_size, emdedding_size = pretrained_weights.shape\n",
        "print('Result embedding shape:', pretrained_weights.shape)\n",
        "\n",
        "#Save partly trained model\n",
        "model_path = 'drive/My Drive/Colab Notebooks/ICCSP-2020/100_w2v_model.h5'\n",
        "word_model.save(model_path)"
      ],
      "execution_count": 0,
      "outputs": []
    },
    {
      "cell_type": "code",
      "metadata": {
        "id": "29igtz6PbIBn",
        "colab_type": "code",
        "colab": {}
      },
      "source": [
        "def word2idx(word):\n",
        "  return word_model.wv.vocab[word].index\n",
        "def idx2word(idx):\n",
        "  return word_model.wv.index2word[idx]"
      ],
      "execution_count": 0,
      "outputs": []
    },
    {
      "cell_type": "code",
      "metadata": {
        "id": "DIygigbNjEiT",
        "colab_type": "code",
        "colab": {}
      },
      "source": [
        "model = Sequential()\n",
        "model.add(Conv1D(filters=64, kernel_size=3, activation='relu', input_shape=(2999,21,100)))\n",
        "model.add(Conv1D(filters=64, kernel_size=3, activation='relu'))\n",
        "model.add(Dropout(0.5))\n",
        "model.add(MaxPooling1D(pool_size=2))\n",
        "model.add(Flatten())\n",
        "model.add(Dense(100, activation='relu'))\n",
        "model.add(Dense(6, activation='softmax'))\n",
        "model.compile(loss='categorical_crossentropy', optimizer='adam', metrics=['accuracy'])"
      ],
      "execution_count": 0,
      "outputs": []
    },
    {
      "cell_type": "code",
      "metadata": {
        "id": "8CvOlcpHQPMU",
        "colab_type": "code",
        "colab": {}
      },
      "source": [
        "model.fit(X_train, Y_train, epochs=5, batch_size=32, verbose=0)\n",
        "# evaluate model\n",
        "accuracy = model.evaluate(X_test, Y_test, batch_size=32, verbose=0)"
      ],
      "execution_count": 0,
      "outputs": []
    }
  ]
}