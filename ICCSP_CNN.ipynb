{
  "nbformat": 4,
  "nbformat_minor": 0,
  "metadata": {
    "colab": {
      "name": "ICCSP.ipynb",
      "provenance": [],
      "collapsed_sections": []
    },
    "kernelspec": {
      "name": "python3",
      "display_name": "Python 3"
    },
    "accelerator": "GPU"
  },
  "cells": [
    {
      "cell_type": "code",
      "metadata": {
        "id": "alQtmQpvrAT3",
        "colab_type": "code",
        "colab": {}
      },
      "source": [
        "from google.colab import drive\n",
        "drive.mount('/content/drive/')"
      ],
      "execution_count": 0,
      "outputs": []
    },
    {
      "cell_type": "code",
      "metadata": {
        "id": "xdhNqmEZrGCN",
        "colab_type": "code",
        "colab": {}
      },
      "source": [
        "import numpy as np\n",
        "import pandas as pd\n",
        "\n",
        "from imblearn.over_sampling import SMOTE, BorderlineSMOTE\n",
        "from keras.callbacks import EarlyStopping\n",
        "from keras.models import Sequential\n",
        "from keras.layers import Convolution1D, Dense, Dropout, Flatten\n",
        "from keras.optimizers import Adam\n",
        "from keras.utils import to_categorical\n",
        "from sklearn.preprocessing import LabelEncoder\n",
        "from sklearn.model_selection import train_test_split\n",
        "from sklearn.metrics import confusion_matrix, accuracy_score"
      ],
      "execution_count": 0,
      "outputs": []
    },
    {
      "cell_type": "code",
      "metadata": {
        "id": "L2p190GrXglX",
        "colab_type": "code",
        "colab": {}
      },
      "source": [
        "feat = pd.read_csv('/content/drive/My Drive/ICCSP/feat.csv')\n",
        "target = pd.read_csv('/content/drive/My Drive/ICCSP/target.csv')\n",
        "\n",
        "X = feat.values\n",
        "\n",
        "encoder = LabelEncoder()\n",
        "y = encoder.fit_transform(target.values)"
      ],
      "execution_count": 0,
      "outputs": []
    },
    {
      "cell_type": "code",
      "metadata": {
        "id": "sAJQp23Z5f6U",
        "colab_type": "code",
        "colab": {}
      },
      "source": [
        "X = X.reshape((3333, 900))\n",
        "\n",
        "blsmote = BorderlineSMOTE()\n",
        "X, y = blsmote.fit_resample(X, y)\n",
        "\n",
        "X = X.reshape((len(X), 18, 50))\n",
        "y = to_categorical(y)\n",
        "\n",
        "X_train, X_val, y_train, y_val = train_test_split(X, y, test_size=0.1)"
      ],
      "execution_count": 0,
      "outputs": []
    },
    {
      "cell_type": "code",
      "metadata": {
        "id": "k91gAzCwhZdC",
        "colab_type": "code",
        "colab": {}
      },
      "source": [
        "model = Sequential()\n",
        "model.add(Convolution1D(200, kernel_size=3, activation='relu', input_shape=(18, 50), name='m1_conv1'))\n",
        "model.add(Dropout(0.5, name='m1_drop1'))\n",
        "model.add(Convolution1D(128, kernel_size=3, activation='relu', name='m1_conv2'))\n",
        "model.add(Dropout(0.5, name='m1_drop2'))\n",
        "model.add(Convolution1D(64, kernel_size=3, activation='relu', name='m1_conv3'))\n",
        "model.add(Dropout(0.5, name='m1_drop3'))\n",
        "model.add(Flatten(name='m1_flatten1'))\n",
        "model.add(Dropout(0.5, name='m1_drop4'))\n",
        "model.add(Dense(64, activation='relu', name='m1_dense1'))\n",
        "model.add(Dense(6, activation='softmax', name='m1_dense2'))\n",
        "\n",
        "model.compile(Adam(lr=0.0003), loss='categorical_crossentropy', metrics=['accuracy'])\n",
        "es = EarlyStopping(monitor='val_loss', mode='min', patience=16)\n",
        "model.fit(X_train, y_train, validation_data=(X_val, y_val), epochs=3000, batch_size=64, callbacks=[es])"
      ],
      "execution_count": 0,
      "outputs": []
    },
    {
      "cell_type": "code",
      "metadata": {
        "id": "P0ujBUF2aZSV",
        "colab_type": "code",
        "colab": {}
      },
      "source": [
        ""
      ],
      "execution_count": 0,
      "outputs": []
    }
  ]
}